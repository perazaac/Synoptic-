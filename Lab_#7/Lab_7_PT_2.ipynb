{
 "cells": [
  {
   "cell_type": "markdown",
   "id": "82421a79-341c-4955-a7b6-3f27aeb1571d",
   "metadata": {},
   "source": [
    "## Lab 7 Part II: Plotting Gridded Data to Evaluate Horizontal Temperature  Advection\n",
    "<br /><br />\n",
    "In this part of the tutorial, we are going to contour GFS-analyzed 850 hPa temperature and geopotential height data to help assess horizontal temperature advection. \n",
    "<br />\n",
    "### Module Documentation\n",
    "1. Xarray Dataset: https://docs.xarray.dev/en/stable/generated/xarray.Dataset.html\n",
    "2. Xarray with MetPy: https://unidata.github.io/MetPy/latest/tutorials/xarray_tutorial.html\n",
    "3. Matplotlib Pyplot: https://matplotlib.org/stable/api/_as_gen/matplotlib.pyplot.html\n",
    "4. Caropy crs: https://scitools.org.uk/cartopy/docs/latest/reference/crs.html\n",
    "5. Cartopy Feature: https://scitools.org.uk/cartopy/docs/latest/matplotlib/feature_interface.html\n",
    "6. Matplotlib Colors: https://matplotlib.org/stable/gallery/color/named_colors.html\n",
    "7. Matplotlib Contour: https://matplotlib.org/stable/api/_as_gen/matplotlib.pyplot.contour.html\n",
    "8. Matplotlib Barbs: https://matplotlib.org/stable/api/_as_gen/matplotlib.pyplot.barbs.html\n",
    "9. Scipy Gaussian Filter: https://docs.scipy.org/doc/scipy/reference/generated/scipy.ndimage.gaussian_filter.html\n",
    "\n",
    "\n",
    "\n",
    "If you have any questions about the code below, feel free to reach out to me at mpvossen@uwm.edu. I am always willing to further explain the code. <br /> <br />\n",
    "\n",
    "---\n",
    "\n",
    "<br />\n",
    "\n",
    "1. As usual, we start by importing the modules we need for our Python code."
   ]
  },
  {
   "cell_type": "code",
   "execution_count": null,
   "id": "44435d91-c36c-4d43-a367-149d53585868",
   "metadata": {},
   "outputs": [],
   "source": [
    "#from the dates and time code(datetime), import the date and time reading capabilities (datetime)\n",
    "from datetime import datetime\n",
    "\n",
    "#import the module numpy and save it to np\n",
    "import numpy as np\n",
    "\n",
    "#import the cartopy (cartopy) module's coordinate reference system (.crs) and save it to the variable crs\n",
    "import cartopy.crs as crs\n",
    "\n",
    "#import the cartopy (cartopy) module's ability to plot geographic data (.feature) and save it to the variable cfeature \n",
    "import cartopy.feature as cfeature\n",
    "\n",
    "#import the pyplot submodule from the matplotlib module\n",
    "import matplotlib.pyplot as plt\n",
    "\n",
    "#from the scipy module's ndimage submodule, import the function gaussian_filter\n",
    "from scipy.ndimage import gaussian_filter\n",
    "\n",
    "#import the module xarray and save it to xr\n",
    "import xarray as xr\n",
    "\n",
    "#from the metpy submodule units import the units function\n",
    "from metpy.units import units\n",
    "\n",
    "#import the calculation submodule form the metpy module and save it to the variable calc\n",
    "import metpy.calc as calc\n",
    "\n",
    "#import the pandas module and save it to the variable pd\n",
    "import pandas as pd"
   ]
  },
  {
   "cell_type": "markdown",
   "id": "3981123d-a2c9-4821-bae4-37f978f65322",
   "metadata": {},
   "source": [
    "<br /><br />\n",
    "2. We need to define variables named time (as a datetime object) and level (as a number), representing the time and isobaric level of interest.  Define these variables for 850 hPa at 0000 UTC on February 19, 2022."
   ]
  },
  {
   "cell_type": "code",
   "execution_count": null,
   "id": "bd1e4a57-1696-4c09-b9df-25248ee65902",
   "metadata": {},
   "outputs": [],
   "source": []
  },
  {
   "cell_type": "markdown",
   "id": "8004f5da-b93a-4c76-8079-1beed8375724",
   "metadata": {},
   "source": [
    "<br /><br />\n",
    "3. Like in previous labs, we are going to follow good coding practices and put our data processing in a function.  Watch out in the comments for areas you need to fill in."
   ]
  },
  {
   "cell_type": "code",
   "execution_count": null,
   "id": "86a87d1b-39c4-48f5-84ae-84946ec91fb1",
   "metadata": {},
   "outputs": [],
   "source": [
    "\"\"\"\n",
    "Below I define a function to retrieve and process upper-air data.  This function opens the GFS analysis data,\n",
    "retains only data from the desired pressure level, and converts temperature from Kelvin to Celsius.\n",
    "\n",
    "\n",
    "INPUT:\n",
    "    level : INTEGER\n",
    "        The level in hPa at which you want upper-air data.\n",
    "    time : DATETIME\n",
    "        The time at which you would like upper-air data.\n",
    "    \n",
    "OUTPUT:\n",
    "\n",
    "    leveled_data : XARRAY DATASET\n",
    "        The xarray containing your processed GFS analysis data\n",
    "\n",
    "\"\"\"\n",
    "\n",
    "def process_upper_air_data(level, time):\n",
    "    \"\"\"\n",
    "    Specify the location of the upper-air data on the JupyterHub.\n",
    "    \"\"\"\n",
    "    lab_data_loc = \"/data/AtmSci360/Lab_7/\"\n",
    "    \n",
    "    \"\"\"\n",
    "    Open the GFS data using xarray.  Since the data are once again GRIB-formatted data, we can use xarray the same way we did in Lab 4.\n",
    "    The data file name is still formatted %m%d%y_%H.grib2.  Only open the variables with a vertical coordinate of isobaricInhPa.\n",
    "    \"\"\"\n",
    "    model_data = \n",
    "    \n",
    "    \"\"\"\n",
    "    We only want data at a single isobaric level.  Limit the data in the xarray to only the level we have specified.\n",
    "    \"\"\"\n",
    "    \n",
    "    \n",
    "    \"\"\"\n",
    "    Our temperature (t) is in Kelvin.  To make this easier for to use, convert temperature to Celsius and save it back to the xarray.\n",
    "    \"\"\"\n",
    "    \n",
    "    \n",
    "    \"\"\"\n",
    "    Finally, have the function return the processed data.\n",
    "    \"\"\"\n"
   ]
  },
  {
   "cell_type": "markdown",
   "id": "2791cac3-7510-41ff-91c7-6c910c1c83df",
   "metadata": {},
   "source": [
    "<br /><br />\n",
    "4. Call your data processing function to retrieve the data we need for this lab.  Save the retrieved data to an appropriately named variable (e.g., model_data)."
   ]
  },
  {
   "cell_type": "code",
   "execution_count": null,
   "id": "7e7cee2b-7c1f-4ee9-92c0-138ddb95f57f",
   "metadata": {},
   "outputs": [],
   "source": []
  },
  {
   "cell_type": "markdown",
   "id": "d2701760-71a0-4990-aeea-dcb89b0693f3",
   "metadata": {},
   "source": [
    "<br /><br />\n",
    "5. Now that our data are processed, we are ready to start plotting.  We once again put our plotting code into a function.  Watch out in the comments below for areas you need to fill in."
   ]
  },
  {
   "cell_type": "code",
   "execution_count": null,
   "id": "41059d16-695f-40a2-8b65-48a1eaa41aac",
   "metadata": {},
   "outputs": [],
   "source": [
    "\"\"\"\n",
    "Below a function is defined to plot upper-air geopotential heights (line contour) and temperature (line contour). \n",
    "\n",
    "\n",
    "INPUT:\n",
    "    model_data : XARRAY DATASET\n",
    "        The GFS analysis data\n",
    "    level : INTEGER\n",
    "        The level that the plot is valid for.\n",
    "    data : DATETIME\n",
    "        The date and time that the plot is valid for.\n",
    "\n",
    "\"\"\"\n",
    "\n",
    "\n",
    "def gfs_temp_upper_air_plot(model_data, level, date):\n",
    "    \"\"\"\n",
    "    Setup a Lambert Conic Conformal Projection centered at 35°N and 95°W.  Have the cone of the Lambert Conic Conformal projection intersect the Earth at 27.5°N and 42.5°N.\n",
    "    \"\"\"\n",
    "    \n",
    "    \n",
    "    \"\"\"\n",
    "    Create a figure with a size of 1150px x 800px and a resolution of 300 dots per inch,\n",
    "    then set up an axes object (named ax) using the projection we previously defined for our map.\n",
    "    \"\"\"\n",
    "\n",
    "    \n",
    "    \"\"\"\n",
    "    Add an appropriate amount of geographic data.  Be sure you follow \"good map\" suggestions with the geographic data styling.\n",
    "    \"\"\"\n",
    "    \n",
    "        \n",
    "    \"\"\"\n",
    "    Limit the map to between 110°-75°W longitude and 30°-60°N latitude.\n",
    "    \"\"\"\n",
    "\n",
    "    \n",
    "    \"\"\"   \n",
    "    Set up a Gaussian filter for the geopotential heights ('gh'). Choose an appropriate smoothing value for these data.\n",
    "    \"\"\"\n",
    "    \n",
    "    \n",
    "    \"\"\"\n",
    "    Contour the smoothed geopotential heights.  Be sure to style your contours so they are easy to read and make sure they have labels.\n",
    "    \"\"\"\n",
    "    \n",
    "    \n",
    "    \"\"\"\n",
    "    Set up a Gaussian filter for the temperature ('t'). Choose an appropriate smoothing value for these data.\n",
    "    \"\"\"\n",
    "    \n",
    "    \n",
    "    \"\"\"\n",
    "    Contour the smoothed temperatures.  Be sure to style your contours so they are easy to read \n",
    "    (including having them be distinct from the geopotential height contours) and make sure they have labels.\n",
    "    \"\"\"\n",
    "    \n",
    "    \n",
    "    \"\"\"\n",
    "    Add an appropriate title to your plot.\n",
    "    \"\"\"\n",
    "    \n",
    "\n"
   ]
  },
  {
   "cell_type": "markdown",
   "id": "4e9baddb-846a-4800-9c21-4a4488b42797",
   "metadata": {},
   "source": [
    "<br /><br />\n",
    "6. Call the plotting function that you just created for the GFS model data, isobaric level, and date we previously retrieved."
   ]
  },
  {
   "cell_type": "code",
   "execution_count": null,
   "id": "9b0f56f5-e725-4d6d-b23a-6d38aec5a42f",
   "metadata": {},
   "outputs": [],
   "source": []
  },
  {
   "cell_type": "markdown",
   "id": "5fd8ea30-d95b-4b01-a8fa-9b7b18d0324b",
   "metadata": {},
   "source": [
    "### You have now completed the Python portion of the lab.  Be sure to submit the fully rendered Jupyter Notebook on GitHub when you are finished."
   ]
  }
 ],
 "metadata": {
  "kernelspec": {
   "display_name": "Python 3 (ipykernel)",
   "language": "python",
   "name": "python3"
  },
  "language_info": {
   "codemirror_mode": {
    "name": "ipython",
    "version": 3
   },
   "file_extension": ".py",
   "mimetype": "text/x-python",
   "name": "python",
   "nbconvert_exporter": "python",
   "pygments_lexer": "ipython3",
   "version": "3.7.12"
  }
 },
 "nbformat": 4,
 "nbformat_minor": 5
}
