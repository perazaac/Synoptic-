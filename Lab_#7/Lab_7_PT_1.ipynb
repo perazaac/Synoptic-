{
 "cells": [
  {
   "cell_type": "markdown",
   "id": "3e3cdb32-bcaa-4356-8dd1-7e103d465b3e",
   "metadata": {},
   "source": [
    "## Lab 7 Part I: Plotting Skew-<i>T</i>, ln-<i>p</i> diagrams\n",
    "<br /><br />\n",
    "In this tutorial, we are going to create Skew-<i>T</i>, ln-<i>p</i> diagrams at specific locations using observation data to aid in inferring horizontal temperature advection (from thermal-wind principles). Luckily, MetPy has functionality to make plotting Skew-<i>T</i>, ln-<i>p</i> diagrams easy rather than us having to build these diagrams (particularly their skewed axes) from scratch.\n",
    "<br />\n",
    "### Module Documentation\n",
    "\n",
    "1. Matplotlib Pyplot: https://matplotlib.org/stable/api/_as_gen/matplotlib.pyplot.html\n",
    "2. Siphon Wyoming Upper Air: https://unidata.github.io/siphon/latest/api/simplewebservice.html#siphon.simplewebservice.wyoming.WyomingUpperAir.request_data\n",
    "3. MetPy Skew T: https://unidata.github.io/MetPy/latest/api/generated/metpy.plots.SkewT.html\n",
    "\n",
    "\n",
    "\n",
    "\n",
    "If you have any questions about the code below, feel free to reach out to me at mpvossen@uwm.edu. I am always willing to further explain the code. <br /> <br />\n",
    "\n",
    "---\n",
    "\n",
    "<br />\n",
    "1. As usual, we start by importing the modules we need for our Python code."
   ]
  },
  {
   "cell_type": "code",
   "execution_count": null,
   "id": "80c2e492-0d91-4e68-afb6-ee0bbb86fe0c",
   "metadata": {},
   "outputs": [],
   "source": [
    "#from python's date and time module (from datetime) import the ability to work with date and times (import datetime)\n",
    "from datetime import datetime\n",
    "\n",
    "#using the module siphon and its ability to retrieve files from online (.simplewebservice) specifically for the University of Wyoming (.wyoming), \n",
    "#import the ability to download from the University of Wyoming's upper-air data archive\n",
    "from siphon.simplewebservice.wyoming import WyomingUpperAir\n",
    "\n",
    "#from metpy's plotting abilities import the SkewT plotting class\n",
    "from metpy.plots import SkewT\n",
    "\n",
    "#import the plotting abilities of the module matplotlib (import matplotlib.pyplot) and save it to plt\n",
    "import matplotlib.pyplot as plt\n",
    "\n",
    "#from the metpy's units feature (metpy.units) import the ability to assign and convert units (units)\n",
    "from metpy.units import units"
   ]
  },
  {
   "cell_type": "markdown",
   "id": "88de5db7-6322-4e3f-a09b-3d007ac913ed",
   "metadata": {},
   "source": [
    "<br /><br />\n",
    "2. Like we have done in past labs, we first need to create variables to define our desired data.  For rawinsonde observations, we need two variables: the time of the observations (in datetime format) and the second is the observation site (as a string).  In the code block below, define the time variable as sounding_date and set it to 0000 UTC September 9, 2014 and define the site variable as station and set it to DVN."
   ]
  },
  {
   "cell_type": "code",
   "execution_count": null,
   "id": "af32ce46-361e-4611-ab2b-15e1746b3456",
   "metadata": {},
   "outputs": [],
   "source": []
  },
  {
   "cell_type": "markdown",
   "id": "99f47963-cb24-4432-8ead-17f38ac1bf1c",
   "metadata": {},
   "source": [
    "<br /><br />\n",
    "3. In the code section below, we take the time and station variables you defined above and pass them into the siphon WyomingUpperAir.request_data function to retrieve the observation for the desired time and location."
   ]
  },
  {
   "cell_type": "code",
   "execution_count": null,
   "id": "3f4cb031-8786-4904-8e1d-548e61daacab",
   "metadata": {},
   "outputs": [],
   "source": [
    "upper_air_data = WyomingUpperAir.request_data(sounding_date, station)\n",
    "\n",
    "upper_air_data"
   ]
  },
  {
   "cell_type": "markdown",
   "id": "57a47890-d1a1-456d-b8ca-c79f10942579",
   "metadata": {},
   "source": [
    "<br /><br />\n",
    "4. We are now ready to plot.  Like in previous labs, we will once again use a function for our plot since we will be plotting three different Skew-<i>T</i>, ln-<i>p</i> diagrams.  Watch out in the comments for areas you need to fill in."
   ]
  },
  {
   "cell_type": "code",
   "execution_count": null,
   "id": "bcc8a9b3-3c57-422a-a6d7-298d2c0003cc",
   "metadata": {},
   "outputs": [],
   "source": [
    "\"\"\"\n",
    "Below a function is defined to plot a Skew-T, ln-p diagram using observation data.  This plot contains\n",
    "temperature and dewpoint traces.\n",
    "\n",
    "\n",
    "INPUT:\n",
    "    data : PANDAS DATAFRAME\n",
    "        The rawinsonde observation data\n",
    "    station : STRING\n",
    "        The rawinsonde station that the data is for.\n",
    "    valid_time : DATETIME\n",
    "        The time of the rawinsonde observation.\n",
    "\"\"\"\n",
    "\n",
    "\n",
    "def plot_skewT(data, station, valid_time):\n",
    "    \"\"\"\n",
    "    For the Skew-T, ln-p plots, MetPy requires all inputs into the plot to have units.\n",
    "    For the variables below add units to the variable using MetPy's units capabilities.\n",
    "    \"\"\"\n",
    "    p = data['pressure'].values \n",
    "    T = data['temperature'].values\n",
    "    Td = data['dewpoint'].values\n",
    "    u = data['u_wind'].values \n",
    "    v = data['v_wind'].values\n",
    "    \n",
    "    \"\"\"\n",
    "    Define a matplotlib figure that is 900px x 900px with a resolution of 300 dots per inch and save it to the variable fig.\n",
    "    \"\"\"\n",
    "\n",
    "    \n",
    "    \n",
    "    \"\"\"\n",
    "    Here I initialize our Skew-T, ln-p diagram similarly to how we defined our axes in previous labs.\n",
    "    \n",
    "    The first argument is your figure variable so MetPy knows where to create the Skew-T, ln-p axes.\n",
    "    The second argument is how to rotate your temperature axis.  The standard Skew-T, ln-p diagram uses a 45° skew.\n",
    "    \"\"\"\n",
    "    skew = SkewT(fig, rotation=45)\n",
    "    \n",
    "    \n",
    "    \"\"\"\n",
    "    Like in previous labs, we want to limit the plot's extent.  However, in the case of Skew-T, ln-p diagrams,\n",
    "    limiting the plot's extent is handled different from before.  For the Skew-T, ln-p diagram, we must have\n",
    "    separate statements for the x and y axes with the minimum value in the first argument and the maximum value in the second\n",
    "    argument. In the two lines of code below I set the extent of the plot for you.\n",
    "    \"\"\"\n",
    "    skew.ax.set_ylim(1000, 100)\n",
    "    skew.ax.set_xlim(-40, 40)\n",
    "    \n",
    "    \n",
    "    \"\"\"\n",
    "    We are ready to now start drawing our temperature and dewpoint traces.  In the two lines below I have \n",
    "    blank plot statements for you to fill out: one for the temperature trace and the other for the \n",
    "    dewpoint trace.\n",
    "    \n",
    "    The Skew-T, ln-p plotting function requires 3 arguments in this order:\n",
    "    First is the height variable.  In most cases (including this case), this is pressure.\n",
    "    Second is the variable (e.g., temperature or dewpoint) you wish to plot.\n",
    "    Third is the color of the line you are plotting.  This uses the standard matplotlib colors.\n",
    "    \n",
    "    You can add more of the standard matplotlib styling arguments such as linewidth or linestyle by adding additional arguments.\n",
    "    \"\"\"\n",
    "    skew.plot()\n",
    "    skew.plot()\n",
    "    \n",
    "    \n",
    "    \"\"\"\n",
    "    We need to thin out the wind data since there are too many observations to legibly plot.\n",
    "    In the code below, set up a slice for the wind barbs (like in Labs 5 and 6) and have it skip\n",
    "    every 3 observations.\n",
    "    \"\"\"\n",
    "    wind_slice = \n",
    "    \n",
    "    \n",
    "    \"\"\"\n",
    "    In the line below, I plot the thinned wind barbs.  The wind barb arguments are set up similar to the plot arguments.\n",
    "    \n",
    "    The first argument is your vertical level, typically pressure.\n",
    "    The second and third arguments are your u- and v-wind components, respectively.\n",
    "    The fourth argument is the barbs' length.  Larger values result in longer barbs.\n",
    "    The final argument is the x location relative to the skew-T, ln-p diagram's axis (where 1 is the far right edge).\n",
    "    Higher values will move your wind barbs to the right and smaller values will move your wind barbs to the left.\n",
    "    \n",
    "    You can also add more of the standard matplotlib wind barb styling arguments by adding additional arguments.\n",
    "    \"\"\"\n",
    "    skew.plot_barbs(p[wind_slice], u[wind_slice], v[wind_slice], length=5, xloc=1.05)\n",
    "\n",
    "\n",
    "    \"\"\"\n",
    "    Since we are not plotting geographic data, we need to provide labels for the x and y axes.\n",
    "    In the two lines below I label these axes appropriately.\n",
    "    \"\"\"\n",
    "    skew.ax.set_xlabel(\"Temperature ($\\degree$C)\")\n",
    "    skew.ax.set_ylabel(\"Pressure (hPa)\")\n",
    "    \n",
    "    \n",
    "    \"\"\"\n",
    "    Finally, like all plots we have created this semester, this plot needs a title.  Create an appropriate title for this plot.\n",
    "    \"\"\"\n",
    "    \n",
    "    \n",
    "\n"
   ]
  },
  {
   "cell_type": "markdown",
   "id": "8234b848-c018-4067-8a55-f2404ee5db22",
   "metadata": {},
   "source": [
    "<br /><br />\n",
    "5. Call the plotting function you just created."
   ]
  },
  {
   "cell_type": "code",
   "execution_count": null,
   "id": "9a13e55c-bad0-41e3-8a93-d2886879dc8a",
   "metadata": {},
   "outputs": [],
   "source": []
  },
  {
   "cell_type": "markdown",
   "id": "af39306b-f94a-4ed1-af52-ad4d0e37efe8",
   "metadata": {},
   "source": [
    "<br /><br />\n",
    "6. Re-run your plotting function for site OAX at 0000 UTC on December 15, 2008."
   ]
  },
  {
   "cell_type": "code",
   "execution_count": null,
   "id": "16e955e9-24c8-4798-8cf1-744fd99d0f20",
   "metadata": {},
   "outputs": [],
   "source": []
  },
  {
   "cell_type": "markdown",
   "id": "9afea654-815d-4aae-9e1d-9fe13f171f58",
   "metadata": {},
   "source": [
    "<br /><br />\n",
    "7. Re-run your plotting function for the site RAP at 0000 UTC on February 19, 2022."
   ]
  },
  {
   "cell_type": "code",
   "execution_count": null,
   "id": "acfcb7ca-44d0-4e95-8d3a-86132d0f7e5a",
   "metadata": {},
   "outputs": [],
   "source": []
  },
  {
   "cell_type": "markdown",
   "id": "3ef724af-8c2e-4f19-848b-9218dca03c25",
   "metadata": {},
   "source": [
    "### You have now completed Part I of the Python portion of the lab.  Be sure to submit the fully rendered Jupyter Notebook on GitHub when you are finished."
   ]
  }
 ],
 "metadata": {
  "kernelspec": {
   "display_name": "Python 3 (ipykernel)",
   "language": "python",
   "name": "python3"
  },
  "language_info": {
   "codemirror_mode": {
    "name": "ipython",
    "version": 3
   },
   "file_extension": ".py",
   "mimetype": "text/x-python",
   "name": "python",
   "nbconvert_exporter": "python",
   "pygments_lexer": "ipython3",
   "version": "3.7.12"
  }
 },
 "nbformat": 4,
 "nbformat_minor": 5
}
