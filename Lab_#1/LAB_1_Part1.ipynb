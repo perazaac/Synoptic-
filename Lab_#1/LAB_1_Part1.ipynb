{
 "cells": [
  {
   "cell_type": "markdown",
   "id": "700343c7-a16d-4683-83c4-c6b073dbb9ee",
   "metadata": {
    "tags": []
   },
   "source": [
    "## Lab 1 Part I: METARs\n",
    "#### 9/7/2022\n",
    "\n",
    "\n",
    "The following tutorial is the first of three parts of the python portion of Lab 1.  In this part we will focus on how to work with METAR data in python using the modules MetPy, and Pandas.  As with every lab in the future I will include a link to the documentation of each module that we introduce for the first time.\n",
    "<br />\n",
    "### Module Documentation\n",
    "1. MetPy Metar Parsing Function: https://unidata.github.io/MetPy/latest/api/generated/metpy.io.parse_metar_file.html\n",
    "2. Pandas DataFrame: https://pandas.pydata.org/pandas-docs/stable/reference/api/pandas.DataFrame.html\n",
    "3. The datetime function from the datetime module: https://docs.python.org/3/library/datetime.html\n",
    "\n",
    "\n",
    "<br /><br />\n",
    "\n",
    "If you have any questions about the code below always feel free to reach out to me at mpvossen@uwm.edu and I am always willing to further explain the code. <br /> <br />\n",
    "\n",
    "\n",
    "1. In most things we do in atmospheric science we can save ourselves time by importing code that someone else has written for us called modules.  In the section below I load the python modules we are going to need to complete the part I of the tutorial."
   ]
  },
  {
   "cell_type": "code",
   "execution_count": 1,
   "id": "0a23b168-628c-492a-9acb-67a4dcaffc64",
   "metadata": {},
   "outputs": [],
   "source": [
    "#from the data reading capabilities of metpy (metpy.io) import the metar reading capability (parse_metar_file)\n",
    "from metpy.io import parse_metar_file\n",
    "#import the data storage for the metar data.  This package lays the data out in a table like format\n",
    "import pandas as pd\n",
    "#from the dates and time code(datetime), import the date and time reading capabilities (datetime).\n",
    "from datetime import datetime\n",
    "#from python's data import module (io) import the ability to read a string as a file.  This allows us to avoid downloading files which speeds things up and keeps your files storage clean.\n",
    "from io import StringIO\n",
    "#import the module to download files from the internet\n",
    "import requests"
   ]
  },
  {
   "cell_type": "markdown",
   "id": "0a28ab89-a468-4b0b-ba0e-37183058f488",
   "metadata": {},
   "source": [
    "<br /><br />\n",
    "2. In this part of the lab we will need to convert various values since the data is not always in the units we would like.  Below is a sample function for how to convert wind from knots to mph. <br />"
   ]
  },
  {
   "cell_type": "code",
   "execution_count": 8,
   "id": "8dd40275-da7f-4e5a-89bc-c78ea0685a23",
   "metadata": {},
   "outputs": [],
   "source": [
    "#here the function is defined.  The def command says to define the function of the name convert_knots_to_mph with the input variable of the name value\n",
    "def convert_knots_to_mph(value):\n",
    "    \n",
    "    #this line causes the function to return a value.  Here I'm returning the input variable divided by 0.868976\n",
    "    return value / 0.868976\n",
    "\n",
    "    "
   ]
  },
  {
   "cell_type": "markdown",
   "id": "83f30f58-9b85-4c41-8ce2-573bd9c8dfc7",
   "metadata": {},
   "source": [
    "<br /><br />In the section below create a function to convert a value temperature from C to F.  Name the function convert_c_to_f. <br />"
   ]
  },
  {
   "cell_type": "code",
   "execution_count": 14,
   "id": "0e3ee8fd-dc70-494c-b4e8-8f13915dc832",
   "metadata": {},
   "outputs": [],
   "source": [
    "def convert_c_to_f():\n",
    "    return value *(9/5)+32\n",
    "    "
   ]
  },
  {
   "cell_type": "markdown",
   "id": "81ab8807-1996-4964-9d5f-113e3915bb88",
   "metadata": {},
   "source": [
    "<br /><br />\n",
    "\n",
    "3. Let's start off by accessing our METAR data.  Normally we would download the latest METAR data from the Unidata THREDDS server, but as of this week the Unidata THREDDS server is down.  So instead I have a sample metar file downloaded for you to open.  When you run this code it may take up to 10 seconds to run.  Note: If you wanted to get your own surface data you would go to https://thredds-test.unidata.ucar.edu/thredds/catalog/noaaport/text/metar/catalog.html<br /> <br />\n",
    "\n"
   ]
  },
  {
   "cell_type": "code",
   "execution_count": 2,
   "id": "d600f675-92d2-45e9-baaa-259ff1902d23",
   "metadata": {},
   "outputs": [
    {
     "ename": "NameError",
     "evalue": "name 'datetime' is not defined",
     "output_type": "error",
     "traceback": [
      "\u001b[0;31m---------------------------------------------------------------------------\u001b[0m",
      "\u001b[0;31mNameError\u001b[0m                                 Traceback (most recent call last)",
      "\u001b[0;32m/tmp/ipykernel_1990729/601262033.py\u001b[0m in \u001b[0;36m<module>\u001b[0;34m\u001b[0m\n\u001b[1;32m      1\u001b[0m \u001b[0;31m#Here I set the create the variable that holds the time in UTC that we want the metar data for.  The file that I have downloaded for you is for July 15th, 2022 1500 UTC\u001b[0m\u001b[0;34m\u001b[0m\u001b[0;34m\u001b[0m\u001b[0;34m\u001b[0m\u001b[0m\n\u001b[1;32m      2\u001b[0m \u001b[0;31m#datetime(year, month, day, hour)\u001b[0m\u001b[0;34m\u001b[0m\u001b[0;34m\u001b[0m\u001b[0;34m\u001b[0m\u001b[0m\n\u001b[0;32m----> 3\u001b[0;31m \u001b[0mfile_time\u001b[0m \u001b[0;34m=\u001b[0m \u001b[0mdatetime\u001b[0m\u001b[0;34m(\u001b[0m\u001b[0;36m2022\u001b[0m\u001b[0;34m,\u001b[0m\u001b[0;36m7\u001b[0m\u001b[0;34m,\u001b[0m\u001b[0;36m15\u001b[0m\u001b[0;34m,\u001b[0m\u001b[0;36m15\u001b[0m\u001b[0;34m)\u001b[0m\u001b[0;34m\u001b[0m\u001b[0;34m\u001b[0m\u001b[0m\n\u001b[0m\u001b[1;32m      4\u001b[0m \u001b[0;34m\u001b[0m\u001b[0m\n\u001b[1;32m      5\u001b[0m \u001b[0;34m\u001b[0m\u001b[0m\n",
      "\u001b[0;31mNameError\u001b[0m: name 'datetime' is not defined"
     ]
    }
   ],
   "source": [
    "#Here I set the create the variable that holds the time in UTC that we want the metar data for.  The file that I have downloaded for you is for July 15th, 2022 1500 UTC\n",
    "#datetime(year, month, day, hour)\n",
    "file_time = datetime(2022,7,15,15)\n",
    "\n",
    "\n",
    "\n",
    "#Here I build the string to tell metpy later where the data is located on the JupyterHub server\n",
    "data_location = \"/srv/data/shared_notebooks/Synoptic1-AtmSci360/Data/Lab_1/\"\n",
    "\n",
    "#Here I definde the name of the METAR file we are going to parse\n",
    "data_name = \"sample_surface.txt\"\n",
    "\n",
    "#We now tell metpy to parse out the METAR file. Here I concatenate the data_location and data_name variable to get the full data file name (data_location+data_name) \n",
    "#Also Metpy only can get the day of the month from the METAR, so we need to specify the month (file_time.month) and year (file_time.year) \n",
    "#from the file time that we set before or else it will assume the current month and year.  \n",
    "metar_data = parse_metar_file(data_location+data_name, month = file_time.month, year=file_time.year)\n",
    "\n",
    "#below you can see that the data is parse out and now is in a form that is similar to a table.  This is called a data frame.\n",
    "#also in Jupyter you can display one variable by typing out the variable name like I did below. (Note: this does not work outside Jupyter)\n",
    "#if you need to display multiple variables in a cell, you will need to use the print statement instead\n",
    "metar_data"
   ]
  },
  {
   "cell_type": "markdown",
   "id": "6d0ab42a-3567-4ea3-9871-e30eb1f35312",
   "metadata": {},
   "source": [
    "\n",
    "<br /><br />\n",
    "4. We now have our data parsed out.  The data is now in something that is called a Pandas DataFrame, which you can visualize to be just like a table of data that you would see in a textbook.  There are column names and row names for the table that we can use to access various parts of the data.  With the way that MetPy structures it's parser the row names are the name of the station, and the column names are the observation variable names.  This structure is useful because sometimes when working with METAR data we need to get an observation for a single location.  In the code below I use the pandas' syntax to get O'Hare airport's observation rows in our sample file.  Multiple times may appear since O'Hare may make multiple observations during the hour that the data is for. <br />\n"
   ]
  },
  {
   "cell_type": "code",
   "execution_count": 15,
   "id": "82250fb0-23bb-44c4-96bf-ae8052b7d176",
   "metadata": {},
   "outputs": [
    {
     "ename": "NameError",
     "evalue": "name 'metar_data' is not defined",
     "output_type": "error",
     "traceback": [
      "\u001b[0;31m---------------------------------------------------------------------------\u001b[0m",
      "\u001b[0;31mNameError\u001b[0m                                 Traceback (most recent call last)",
      "\u001b[0;32m/tmp/ipykernel_1707955/1214333972.py\u001b[0m in \u001b[0;36m<module>\u001b[0;34m\u001b[0m\n\u001b[1;32m      3\u001b[0m \u001b[0;34m\u001b[0m\u001b[0m\n\u001b[1;32m      4\u001b[0m \u001b[0;31m#from the metar data frame (the metar_data variable) slice out the row (.loc[]) that has the index that is for the site we want (site) and save it to the variable station.\u001b[0m\u001b[0;34m\u001b[0m\u001b[0;34m\u001b[0m\u001b[0;34m\u001b[0m\u001b[0m\n\u001b[0;32m----> 5\u001b[0;31m \u001b[0mstation\u001b[0m \u001b[0;34m=\u001b[0m \u001b[0mmetar_data\u001b[0m\u001b[0;34m.\u001b[0m\u001b[0mloc\u001b[0m\u001b[0;34m[\u001b[0m\u001b[0msite\u001b[0m\u001b[0;34m]\u001b[0m\u001b[0;34m\u001b[0m\u001b[0;34m\u001b[0m\u001b[0m\n\u001b[0m\u001b[1;32m      6\u001b[0m \u001b[0;34m\u001b[0m\u001b[0m\n\u001b[1;32m      7\u001b[0m \u001b[0;31m#display the sliced data for O'Hare. The data may look different, but it is still setup the same as the cell above.\u001b[0m\u001b[0;34m\u001b[0m\u001b[0;34m\u001b[0m\u001b[0;34m\u001b[0m\u001b[0m\n",
      "\u001b[0;31mNameError\u001b[0m: name 'metar_data' is not defined"
     ]
    }
   ],
   "source": [
    "#set the site variable to a string of O'Hare's 4 letter identifier\n",
    "site = \"KORD\"\n",
    "\n",
    "#from the metar data frame (the metar_data variable) slice out the row (.loc[]) that has the index that is for the site we want (site) and save it to the variable station.\n",
    "station = metar_data.loc[site]\n",
    "\n",
    "#display the sliced data for O'Hare. The data may look different, but it is still setup the same as the cell above.\n",
    "station"
   ]
  },
  {
   "cell_type": "markdown",
   "id": "ffd6a290-2d19-42b1-a4f1-f782ff096644",
   "metadata": {},
   "source": [
    "<br /> <br /> \n",
    "5. We can also parse out specific variables we want by using the syntax below. <br />"
   ]
  },
  {
   "cell_type": "code",
   "execution_count": 10,
   "id": "9f5f1542-f3a6-4755-a0d5-39dcff13da44",
   "metadata": {},
   "outputs": [
    {
     "ename": "NameError",
     "evalue": "name 'station' is not defined",
     "output_type": "error",
     "traceback": [
      "\u001b[0;31m---------------------------------------------------------------------------\u001b[0m",
      "\u001b[0;31mNameError\u001b[0m                                 Traceback (most recent call last)",
      "\u001b[0;32m/tmp/ipykernel_1707955/936390013.py\u001b[0m in \u001b[0;36m<module>\u001b[0;34m\u001b[0m\n\u001b[1;32m      1\u001b[0m \u001b[0;31m#from the data that only contains the metar for KORD (station) slice out the column named \"windspeed\" and save it to the variable station_wind.\u001b[0m\u001b[0;34m\u001b[0m\u001b[0;34m\u001b[0m\u001b[0;34m\u001b[0m\u001b[0m\n\u001b[1;32m      2\u001b[0m \u001b[0;31m#For columns we can just do the brackets and we don't need a function like the .loc() function that we needed before for the row.\u001b[0m\u001b[0;34m\u001b[0m\u001b[0;34m\u001b[0m\u001b[0;34m\u001b[0m\u001b[0m\n\u001b[0;32m----> 3\u001b[0;31m \u001b[0mstation_wind\u001b[0m \u001b[0;34m=\u001b[0m \u001b[0mstation\u001b[0m\u001b[0;34m[\u001b[0m\u001b[0;34m\"wind_speed\"\u001b[0m\u001b[0;34m]\u001b[0m\u001b[0;34m\u001b[0m\u001b[0;34m\u001b[0m\u001b[0m\n\u001b[0m\u001b[1;32m      4\u001b[0m \u001b[0;34m\u001b[0m\u001b[0m\n\u001b[1;32m      5\u001b[0m \u001b[0;31m#display the variable that we saved the wind speed data from KORD to.\u001b[0m\u001b[0;34m\u001b[0m\u001b[0;34m\u001b[0m\u001b[0;34m\u001b[0m\u001b[0m\n",
      "\u001b[0;31mNameError\u001b[0m: name 'station' is not defined"
     ]
    }
   ],
   "source": [
    "#from the data that only contains the metar for KORD (station) slice out the column named \"windspeed\" and save it to the variable station_wind.  \n",
    "#For columns we can just do the brackets and we don't need a function like the .loc() function that we needed before for the row.\n",
    "station_wind = station[\"wind_speed\"]\n",
    "\n",
    "#display the variable that we saved the wind speed data from KORD to.\n",
    "station_wind"
   ]
  },
  {
   "cell_type": "markdown",
   "id": "da005306-7b70-4769-943b-9d6d27fda726",
   "metadata": {},
   "source": [
    "<br /><br />\n",
    "6. Finally, our data is in the standard METAR units.  One way we can convert these units is by using the functions we created before like the code below\n",
    "<br />"
   ]
  },
  {
   "cell_type": "code",
   "execution_count": null,
   "id": "b8ad0fb3-559d-4287-9f41-5a4568c40b11",
   "metadata": {},
   "outputs": [],
   "source": [
    "#using the convert_knots_to_mph function that I defined before to convert the wind speed for KORD (station_wind) from knots to mph and save the output from the function to the variable station_wind_mph.\n",
    "station_wind_mph = convert_knots_to_mph(station_wind)\n",
    "#display the station wind speed that resulted from the function above\n",
    "station_wind_mph"
   ]
  },
  {
   "cell_type": "markdown",
   "id": "e5dbcbf6-1c2a-4c40-83e1-087388da2578",
   "metadata": {},
   "source": [
    "<br /><br />\n",
    "7. In the code section below, parse out the temperature (air_temperature), dewpoint (dew_point_temperature), pressure (air_pressure_at_sea_level), wind speed (wind_speed), wind direction (wind_direction), and cloud coverage (cloud_coverage) for Madison (KMSN) in the code section below.  Display the output so you can use it to answer question 6 in the lab.  Be sure to convert temperature, and dewpoint to the appropriate units.\n",
    "<br /><br />"
   ]
  },
  {
   "cell_type": "code",
   "execution_count": 3,
   "id": "2cd2486e-b83e-4732-b84c-c606807f3e33",
   "metadata": {},
   "outputs": [
    {
     "data": {
      "text/plain": [
       "64.4"
      ]
     },
     "execution_count": 3,
     "metadata": {},
     "output_type": "execute_result"
    }
   ],
   "source": [
    "import pandas as pd\n",
    "from metpy.io import parse_metar_file\n",
    "from datetime import datetime\n",
    "from io import StringIO\n",
    "import requests\n",
    "\n",
    "def convert_knots_to_mph(value):\n",
    "    return value / 0.868976\n",
    "def convert_c_to_f(value):\n",
    "    return value *(9/5)+32\n",
    "\n",
    "\n",
    "file_time = datetime(2022,7,15,15)\n",
    "data_location = \"/srv/data/shared_notebooks/Synoptic1-AtmSci360/Data/Lab_1/\"\n",
    "data_name = \"sample_surface.txt\"\n",
    "metar_data = parse_metar_file(data_location+data_name, month = file_time.month, year=file_time.year)\n",
    "metar_data\n",
    "\n",
    "site = \"KMSN\"\n",
    "station = metar_data.loc[site]\n",
    "station\n",
    "station_wind = station[\"wind_speed\"]\n",
    "station_wind\n",
    "\n",
    "station_wind_mph = convert_knots_to_mph(station_wind)\n",
    "station_wind_mph\n",
    "\n",
    "station_temperature= station[\"air_temperature\"]\n",
    "station_air_temperature= convert_c_to_f(station_temperature)\n",
    "station_air_temperature\n",
    "\n",
    "station_pressure=station[\"air_pressure_at_sea_level\"]\n",
    "station_pressure\n",
    "\n",
    "station_wind_direction=station[\"wind_direction\"]\n",
    "station_wind_direction\n",
    "\n",
    "station_cloud_coverage=station[\"cloud_coverage\"]\n",
    "station_cloud_coverage\n",
    "\n",
    "station_dew_point=station[\"dew_point_temperature\"]\n",
    "station_dew_point_temperature=convert_c_to_f(station_dew_point)\n",
    "station_dew_point_temperature\n",
    "\n"
   ]
  },
  {
   "cell_type": "markdown",
   "id": "4638d98c-8893-4f93-ae75-3e5b6379ee22",
   "metadata": {},
   "source": [
    "<br /><br />\n",
    "\n",
    "### You have now completed Part I of the python portion of the lab.  Be sure to submit the fully rendered Jupyter Notebook on GitHub when you are finished.\n"
   ]
  }
 ],
 "metadata": {
  "kernelspec": {
   "display_name": "Python 3 (ipykernel)",
   "language": "python",
   "name": "python3"
  },
  "language_info": {
   "codemirror_mode": {
    "name": "ipython",
    "version": 3
   },
   "file_extension": ".py",
   "mimetype": "text/x-python",
   "name": "python",
   "nbconvert_exporter": "python",
   "pygments_lexer": "ipython3",
   "version": "3.7.12"
  }
 },
 "nbformat": 4,
 "nbformat_minor": 5
}
