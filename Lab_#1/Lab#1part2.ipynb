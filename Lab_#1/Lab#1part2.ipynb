{
 "cells": [
  {
   "cell_type": "code",
   "execution_count": 20,
   "id": "5f4c77d5",
   "metadata": {},
   "outputs": [],
   "source": [
    "from datetime import datetime\n",
    "from siphon.simplewebservice.wyoming import WyomingUpperAir\n"
   ]
  },
  {
   "cell_type": "code",
   "execution_count": 21,
   "id": "3495cb52",
   "metadata": {},
   "outputs": [],
   "source": [
    "sounding_date = datetime(2022,9,7,12)\n",
    "station = \"GRB\"\n"
   ]
  },
  {
   "cell_type": "code",
   "execution_count": 22,
   "id": "ed07dba0",
   "metadata": {},
   "outputs": [
    {
     "data": {
      "text/html": [
       "<div>\n",
       "<style scoped>\n",
       "    .dataframe tbody tr th:only-of-type {\n",
       "        vertical-align: middle;\n",
       "    }\n",
       "\n",
       "    .dataframe tbody tr th {\n",
       "        vertical-align: top;\n",
       "    }\n",
       "\n",
       "    .dataframe thead th {\n",
       "        text-align: right;\n",
       "    }\n",
       "</style>\n",
       "<table border=\"1\" class=\"dataframe\">\n",
       "  <thead>\n",
       "    <tr style=\"text-align: right;\">\n",
       "      <th></th>\n",
       "      <th>height</th>\n",
       "      <th>temperature</th>\n",
       "      <th>dewpoint</th>\n",
       "      <th>direction</th>\n",
       "      <th>speed</th>\n",
       "      <th>u_wind</th>\n",
       "      <th>v_wind</th>\n",
       "      <th>station</th>\n",
       "      <th>station_number</th>\n",
       "      <th>time</th>\n",
       "      <th>latitude</th>\n",
       "      <th>longitude</th>\n",
       "      <th>elevation</th>\n",
       "      <th>pw</th>\n",
       "    </tr>\n",
       "    <tr>\n",
       "      <th>pressure</th>\n",
       "      <th></th>\n",
       "      <th></th>\n",
       "      <th></th>\n",
       "      <th></th>\n",
       "      <th></th>\n",
       "      <th></th>\n",
       "      <th></th>\n",
       "      <th></th>\n",
       "      <th></th>\n",
       "      <th></th>\n",
       "      <th></th>\n",
       "      <th></th>\n",
       "      <th></th>\n",
       "      <th></th>\n",
       "    </tr>\n",
       "  </thead>\n",
       "  <tbody>\n",
       "    <tr>\n",
       "      <th>996.0</th>\n",
       "      <td>214.0</td>\n",
       "      <td>13.2</td>\n",
       "      <td>12.6</td>\n",
       "      <td>0.0</td>\n",
       "      <td>0.0</td>\n",
       "      <td>-0.000000</td>\n",
       "      <td>-0.000000e+00</td>\n",
       "      <td>GRB</td>\n",
       "      <td>72645</td>\n",
       "      <td>2022-09-07 12:00:00</td>\n",
       "      <td>44.5</td>\n",
       "      <td>-88.11</td>\n",
       "      <td>214.0</td>\n",
       "      <td>23.03</td>\n",
       "    </tr>\n",
       "    <tr>\n",
       "      <th>976.0</th>\n",
       "      <td>387.0</td>\n",
       "      <td>19.8</td>\n",
       "      <td>15.1</td>\n",
       "      <td>356.0</td>\n",
       "      <td>3.0</td>\n",
       "      <td>0.209269</td>\n",
       "      <td>-2.992692e+00</td>\n",
       "      <td>GRB</td>\n",
       "      <td>72645</td>\n",
       "      <td>2022-09-07 12:00:00</td>\n",
       "      <td>44.5</td>\n",
       "      <td>-88.11</td>\n",
       "      <td>214.0</td>\n",
       "      <td>23.03</td>\n",
       "    </tr>\n",
       "    <tr>\n",
       "      <th>953.0</th>\n",
       "      <td>592.0</td>\n",
       "      <td>18.8</td>\n",
       "      <td>12.8</td>\n",
       "      <td>351.0</td>\n",
       "      <td>7.0</td>\n",
       "      <td>1.095041</td>\n",
       "      <td>-6.913818e+00</td>\n",
       "      <td>GRB</td>\n",
       "      <td>72645</td>\n",
       "      <td>2022-09-07 12:00:00</td>\n",
       "      <td>44.5</td>\n",
       "      <td>-88.11</td>\n",
       "      <td>214.0</td>\n",
       "      <td>23.03</td>\n",
       "    </tr>\n",
       "    <tr>\n",
       "      <th>925.0</th>\n",
       "      <td>847.0</td>\n",
       "      <td>17.0</td>\n",
       "      <td>12.0</td>\n",
       "      <td>345.0</td>\n",
       "      <td>12.0</td>\n",
       "      <td>3.105829</td>\n",
       "      <td>-1.159111e+01</td>\n",
       "      <td>GRB</td>\n",
       "      <td>72645</td>\n",
       "      <td>2022-09-07 12:00:00</td>\n",
       "      <td>44.5</td>\n",
       "      <td>-88.11</td>\n",
       "      <td>214.0</td>\n",
       "      <td>23.03</td>\n",
       "    </tr>\n",
       "    <tr>\n",
       "      <th>917.7</th>\n",
       "      <td>914.0</td>\n",
       "      <td>16.5</td>\n",
       "      <td>11.6</td>\n",
       "      <td>350.0</td>\n",
       "      <td>12.0</td>\n",
       "      <td>2.083778</td>\n",
       "      <td>-1.181769e+01</td>\n",
       "      <td>GRB</td>\n",
       "      <td>72645</td>\n",
       "      <td>2022-09-07 12:00:00</td>\n",
       "      <td>44.5</td>\n",
       "      <td>-88.11</td>\n",
       "      <td>214.0</td>\n",
       "      <td>23.03</td>\n",
       "    </tr>\n",
       "    <tr>\n",
       "      <th>...</th>\n",
       "      <td>...</td>\n",
       "      <td>...</td>\n",
       "      <td>...</td>\n",
       "      <td>...</td>\n",
       "      <td>...</td>\n",
       "      <td>...</td>\n",
       "      <td>...</td>\n",
       "      <td>...</td>\n",
       "      <td>...</td>\n",
       "      <td>...</td>\n",
       "      <td>...</td>\n",
       "      <td>...</td>\n",
       "      <td>...</td>\n",
       "      <td>...</td>\n",
       "    </tr>\n",
       "    <tr>\n",
       "      <th>11.0</th>\n",
       "      <td>30693.0</td>\n",
       "      <td>-44.2</td>\n",
       "      <td>-68.0</td>\n",
       "      <td>250.0</td>\n",
       "      <td>13.0</td>\n",
       "      <td>12.216004</td>\n",
       "      <td>4.446262e+00</td>\n",
       "      <td>GRB</td>\n",
       "      <td>72645</td>\n",
       "      <td>2022-09-07 12:00:00</td>\n",
       "      <td>44.5</td>\n",
       "      <td>-88.11</td>\n",
       "      <td>214.0</td>\n",
       "      <td>23.03</td>\n",
       "    </tr>\n",
       "    <tr>\n",
       "      <th>10.0</th>\n",
       "      <td>31330.0</td>\n",
       "      <td>-44.9</td>\n",
       "      <td>-66.9</td>\n",
       "      <td>0.0</td>\n",
       "      <td>0.0</td>\n",
       "      <td>-0.000000</td>\n",
       "      <td>-0.000000e+00</td>\n",
       "      <td>GRB</td>\n",
       "      <td>72645</td>\n",
       "      <td>2022-09-07 12:00:00</td>\n",
       "      <td>44.5</td>\n",
       "      <td>-88.11</td>\n",
       "      <td>214.0</td>\n",
       "      <td>23.03</td>\n",
       "    </tr>\n",
       "    <tr>\n",
       "      <th>9.5</th>\n",
       "      <td>31673.0</td>\n",
       "      <td>-45.3</td>\n",
       "      <td>-67.3</td>\n",
       "      <td>316.0</td>\n",
       "      <td>3.0</td>\n",
       "      <td>2.083975</td>\n",
       "      <td>-2.158019e+00</td>\n",
       "      <td>GRB</td>\n",
       "      <td>72645</td>\n",
       "      <td>2022-09-07 12:00:00</td>\n",
       "      <td>44.5</td>\n",
       "      <td>-88.11</td>\n",
       "      <td>214.0</td>\n",
       "      <td>23.03</td>\n",
       "    </tr>\n",
       "    <tr>\n",
       "      <th>9.4</th>\n",
       "      <td>31743.0</td>\n",
       "      <td>-45.3</td>\n",
       "      <td>NaN</td>\n",
       "      <td>307.0</td>\n",
       "      <td>4.0</td>\n",
       "      <td>3.194542</td>\n",
       "      <td>-2.407260e+00</td>\n",
       "      <td>GRB</td>\n",
       "      <td>72645</td>\n",
       "      <td>2022-09-07 12:00:00</td>\n",
       "      <td>44.5</td>\n",
       "      <td>-88.11</td>\n",
       "      <td>214.0</td>\n",
       "      <td>23.03</td>\n",
       "    </tr>\n",
       "    <tr>\n",
       "      <th>9.0</th>\n",
       "      <td>NaN</td>\n",
       "      <td>NaN</td>\n",
       "      <td>NaN</td>\n",
       "      <td>270.0</td>\n",
       "      <td>7.0</td>\n",
       "      <td>7.000000</td>\n",
       "      <td>1.285879e-15</td>\n",
       "      <td>GRB</td>\n",
       "      <td>72645</td>\n",
       "      <td>2022-09-07 12:00:00</td>\n",
       "      <td>44.5</td>\n",
       "      <td>-88.11</td>\n",
       "      <td>214.0</td>\n",
       "      <td>23.03</td>\n",
       "    </tr>\n",
       "  </tbody>\n",
       "</table>\n",
       "<p>121 rows × 14 columns</p>\n",
       "</div>"
      ],
      "text/plain": [
       "           height  temperature  dewpoint  direction  speed     u_wind  \\\n",
       "pressure                                                                \n",
       "996.0       214.0         13.2      12.6        0.0    0.0  -0.000000   \n",
       "976.0       387.0         19.8      15.1      356.0    3.0   0.209269   \n",
       "953.0       592.0         18.8      12.8      351.0    7.0   1.095041   \n",
       "925.0       847.0         17.0      12.0      345.0   12.0   3.105829   \n",
       "917.7       914.0         16.5      11.6      350.0   12.0   2.083778   \n",
       "...           ...          ...       ...        ...    ...        ...   \n",
       "11.0      30693.0        -44.2     -68.0      250.0   13.0  12.216004   \n",
       "10.0      31330.0        -44.9     -66.9        0.0    0.0  -0.000000   \n",
       "9.5       31673.0        -45.3     -67.3      316.0    3.0   2.083975   \n",
       "9.4       31743.0        -45.3       NaN      307.0    4.0   3.194542   \n",
       "9.0           NaN          NaN       NaN      270.0    7.0   7.000000   \n",
       "\n",
       "                v_wind station  station_number                time  latitude  \\\n",
       "pressure                                                                       \n",
       "996.0    -0.000000e+00     GRB           72645 2022-09-07 12:00:00      44.5   \n",
       "976.0    -2.992692e+00     GRB           72645 2022-09-07 12:00:00      44.5   \n",
       "953.0    -6.913818e+00     GRB           72645 2022-09-07 12:00:00      44.5   \n",
       "925.0    -1.159111e+01     GRB           72645 2022-09-07 12:00:00      44.5   \n",
       "917.7    -1.181769e+01     GRB           72645 2022-09-07 12:00:00      44.5   \n",
       "...                ...     ...             ...                 ...       ...   \n",
       "11.0      4.446262e+00     GRB           72645 2022-09-07 12:00:00      44.5   \n",
       "10.0     -0.000000e+00     GRB           72645 2022-09-07 12:00:00      44.5   \n",
       "9.5      -2.158019e+00     GRB           72645 2022-09-07 12:00:00      44.5   \n",
       "9.4      -2.407260e+00     GRB           72645 2022-09-07 12:00:00      44.5   \n",
       "9.0       1.285879e-15     GRB           72645 2022-09-07 12:00:00      44.5   \n",
       "\n",
       "          longitude  elevation     pw  \n",
       "pressure                               \n",
       "996.0        -88.11      214.0  23.03  \n",
       "976.0        -88.11      214.0  23.03  \n",
       "953.0        -88.11      214.0  23.03  \n",
       "925.0        -88.11      214.0  23.03  \n",
       "917.7        -88.11      214.0  23.03  \n",
       "...             ...        ...    ...  \n",
       "11.0         -88.11      214.0  23.03  \n",
       "10.0         -88.11      214.0  23.03  \n",
       "9.5          -88.11      214.0  23.03  \n",
       "9.4          -88.11      214.0  23.03  \n",
       "9.0          -88.11      214.0  23.03  \n",
       "\n",
       "[121 rows x 14 columns]"
      ]
     },
     "execution_count": 22,
     "metadata": {},
     "output_type": "execute_result"
    }
   ],
   "source": [
    "upper_air_data = WyomingUpperAir.request_data(sounding_date, station).set_index(\"pressure\")\n",
    "upper_air_data\n"
   ]
  },
  {
   "cell_type": "code",
   "execution_count": 23,
   "id": "09a656b5",
   "metadata": {},
   "outputs": [
    {
     "data": {
      "text/plain": [
       "Index(['height', 'temperature', 'dewpoint', 'direction', 'speed', 'u_wind',\n",
       "       'v_wind', 'station', 'station_number', 'time', 'latitude', 'longitude',\n",
       "       'elevation', 'pw'],\n",
       "      dtype='object')"
      ]
     },
     "execution_count": 23,
     "metadata": {},
     "output_type": "execute_result"
    }
   ],
   "source": [
    "upper_air_data.columns"
   ]
  },
  {
   "cell_type": "code",
   "execution_count": 24,
   "id": "78668db1",
   "metadata": {},
   "outputs": [
    {
     "data": {
      "text/plain": [
       "9600.0"
      ]
     },
     "execution_count": 24,
     "metadata": {},
     "output_type": "execute_result"
    }
   ],
   "source": [
    "upper_air_data[\"height\"].loc[300]\n"
   ]
  },
  {
   "cell_type": "code",
   "execution_count": 25,
   "id": "9d34f224",
   "metadata": {},
   "outputs": [
    {
     "data": {
      "text/plain": [
       "-35.9"
      ]
     },
     "execution_count": 25,
     "metadata": {},
     "output_type": "execute_result"
    }
   ],
   "source": [
    "upper_air_data[\"temperature\"].loc[300]"
   ]
  },
  {
   "cell_type": "code",
   "execution_count": 26,
   "id": "cf04a4c6",
   "metadata": {},
   "outputs": [
    {
     "data": {
      "text/plain": [
       "-51.9"
      ]
     },
     "execution_count": 26,
     "metadata": {},
     "output_type": "execute_result"
    }
   ],
   "source": [
    "upper_air_data[\"dewpoint\"].loc[300]"
   ]
  },
  {
   "cell_type": "code",
   "execution_count": 12,
   "id": "e0ec07fe",
   "metadata": {},
   "outputs": [
    {
     "data": {
      "text/plain": [
       "40.0"
      ]
     },
     "execution_count": 12,
     "metadata": {},
     "output_type": "execute_result"
    }
   ],
   "source": [
    "upper_air_data[\"speed\"].loc[300]"
   ]
  },
  {
   "cell_type": "code",
   "execution_count": 13,
   "id": "8a8de12d",
   "metadata": {},
   "outputs": [
    {
     "data": {
      "text/plain": [
       "0.0"
      ]
     },
     "execution_count": 13,
     "metadata": {},
     "output_type": "execute_result"
    }
   ],
   "source": [
    "upper_air_data[\"direction\"].loc[300]"
   ]
  },
  {
   "cell_type": "code",
   "execution_count": null,
   "id": "1444b8e3",
   "metadata": {},
   "outputs": [],
   "source": []
  }
 ],
 "metadata": {
  "kernelspec": {
   "display_name": "Python 3 (ipykernel)",
   "language": "python",
   "name": "python3"
  },
  "language_info": {
   "codemirror_mode": {
    "name": "ipython",
    "version": 3
   },
   "file_extension": ".py",
   "mimetype": "text/x-python",
   "name": "python",
   "nbconvert_exporter": "python",
   "pygments_lexer": "ipython3",
   "version": "3.7.12"
  }
 },
 "nbformat": 4,
 "nbformat_minor": 5
}
